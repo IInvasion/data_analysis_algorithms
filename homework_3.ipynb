{
 "cells": [
  {
   "cell_type": "markdown",
   "metadata": {},
   "source": [
    "1**. Измените функцию calc_logloss так, чтобы нули по возможности не попадали в np.log.<br>\n",
    "2*. Подберите аргументы функции eval_model для логистической регрессии таким образом, чтобы log loss был минимальным.<br>\n",
    "3*. Создайте функцию calc_pred_proba, возвращающую предсказанную вероятность класса 1 (на вход подаются W, который уже посчитан функцией eval_model и X, на выходе - массив y_pred_proba).<br>\n",
    "4*. Создайте функцию calc_pred, возвращающую предсказанный класс (на вход подаются W, который уже посчитан функцией eval_model и X, на выходе - массив y_pred).<br>\n",
    "5*. Посчитайте Accuracy, матрицу ошибок, точность и полноту, а также F1 score.<br>\n",
    "6*. Могла ли модель переобучиться? Почему?<br>\n",
    "7*. Создайте функции eval_model_l1 и eval_model_l2 с применением L1 и L2 регуляризаций соответственно."
   ]
  },
  {
   "cell_type": "code",
   "execution_count": 36,
   "metadata": {},
   "outputs": [],
   "source": [
    "import matplotlib.pyplot as plt\n",
    "import numpy as np\n",
    "import pandas as pd\n",
    "from sklearn import datasets\n",
    "from matplotlib.colors import ListedColormap\n",
    "\n",
    "%matplotlib inline"
   ]
  },
  {
   "cell_type": "code",
   "execution_count": 2,
   "metadata": {},
   "outputs": [],
   "source": [
    "def logit(x):\n",
    "    \"\"\"Sigmoid function.\"\"\"\n",
    "\n",
    "    return 1 / (1 + np.exp(-x))"
   ]
  },
  {
   "cell_type": "code",
   "execution_count": 3,
   "metadata": {},
   "outputs": [
    {
     "data": {
      "image/png": "[encoded data removed]",
      "text/plain": [
       "<Figure size 1120x480 with 1 Axes>"
      ]
     },
     "metadata": {
      "needs_background": "light"
     },
     "output_type": "display_data"
    }
   ],
   "source": [
    "dots = np.linspace(-10, 10, 100)\n",
    "logit_value = list(map(logit, dots))\n",
    "\n",
    "fig, axes = plt.subplots(figsize = (14, 6), dpi=80)\n",
    "plt.plot(dots, logit_value, color='grey', label='$ 1 / (1 + e^{-w^Tx_i})$')\n",
    "plt.xlabel('$f(w, x_i) = w^Tx_i$', size=16)\n",
    "plt.ylabel('$p_{i+}$', size=16)\n",
    "plt.legend(prop={'size': 14})\n",
    "plt.show()"
   ]
  },
  {
   "cell_type": "code",
   "execution_count": 4,
   "metadata": {},
   "outputs": [],
   "source": [
    "def log_loss(w, X, y):\n",
    "    m = X.shape[1]\n",
    "\n",
    "    A = logit(np.dot(w.T, X))\n",
    "    \n",
    "    loss = -1.0 / m * np.sum(y * np.log(A) + (1 - y) * np.log(1 - A))\n",
    "    grad = 1.0 / m * np.dot(X, (A - y).T)\n",
    "    \n",
    "    return loss, grad"
   ]
  },
  {
   "cell_type": "code",
   "execution_count": 5,
   "metadata": {},
   "outputs": [],
   "source": [
    "classes = datasets.make_classification(n_samples=100,\n",
    "                                       n_features=236,\n",
    "                                       n_informative=23,\n",
    "                                       n_redundant=0,\n",
    "                                       n_classes=2,\n",
    "                                       random_state=1)\n",
    "dots = np.linspace(-1, 1, 1000)"
   ]
  },
  {
   "cell_type": "code",
   "execution_count": 6,
   "metadata": {},
   "outputs": [
    {
     "name": "stdout",
     "output_type": "stream",
     "text": [
      "Размер массива признаков обучающей выборки (70, 236)\n",
      "Размер массива признаков тестовой выборки (30, 236)\n",
      "Размер массива ответов для обучающей выборки (70,)\n",
      "Размер массива ответов для тестовой выборки (30,)\n"
     ]
    }
   ],
   "source": [
    "np.random.seed(12)\n",
    "shuffle_index = np.random.permutation(classes[0].shape[0])\n",
    "X_shuffled, y_shuffled = classes[0][shuffle_index], classes[1][shuffle_index]\n",
    "    \n",
    "train_proportion = 0.7\n",
    "train_test_cut = int(len(classes[0]) * train_proportion)\n",
    "    \n",
    "X_train, X_test, y_train, y_test = \\\n",
    "    X_shuffled[:train_test_cut], \\\n",
    "    X_shuffled[train_test_cut:], \\\n",
    "    y_shuffled[:train_test_cut], \\\n",
    "    y_shuffled[train_test_cut:]\n",
    "    \n",
    "print(\"Размер массива признаков обучающей выборки\", X_train.shape)\n",
    "print(\"Размер массива признаков тестовой выборки\", X_test.shape)\n",
    "print(\"Размер массива ответов для обучающей выборки\", y_train.shape)\n",
    "print(\"Размер массива ответов для тестовой выборки\", y_test.shape)"
   ]
  },
  {
   "cell_type": "code",
   "execution_count": 7,
   "metadata": {},
   "outputs": [],
   "source": [
    "X_train_tr = X_train.transpose()\n",
    "y_train_tr = y_train.reshape(1, y_train.shape[0])\n",
    "X_test_tr = X_test.transpose()\n",
    "y_test_tr = y_test.reshape(1, y_test.shape[0])"
   ]
  },
  {
   "cell_type": "code",
   "execution_count": 8,
   "metadata": {},
   "outputs": [],
   "source": [
    "def eval_model(w, X, y, n_iterations, eta):\n",
    "    \"\"\"Logistic regression evaluation.\"\"\"\n",
    "    \n",
    "    losses = []\n",
    "    \n",
    "    for i in range(n_iterations):\n",
    "        loss, grad = log_loss(w, X, y)\n",
    "        w = w - eta * grad\n",
    "        \n",
    "        losses.append(loss)\n",
    "        \n",
    "    return w, losses"
   ]
  },
  {
   "cell_type": "markdown",
   "metadata": {},
   "source": [
    "### 2) Подберите аргументы функции eval_model для логистической регрессии таким образом, чтобы log loss был минимальным."
   ]
  },
  {
   "cell_type": "code",
   "execution_count": 9,
   "metadata": {},
   "outputs": [
    {
     "data": {
      "text/plain": [
       "0.0004578138018360489"
      ]
     },
     "execution_count": 9,
     "metadata": {},
     "output_type": "execute_result"
    }
   ],
   "source": [
    "w0 = np.zeros((X_train_tr.shape[0], 1))\n",
    "\n",
    "n_iterations = 10000\n",
    "eta = 0.05\n",
    "w, losses = eval_model(w0, X_train_tr, y_train_tr, n_iterations, eta)\n",
    "\n",
    "losses[-1]"
   ]
  },
  {
   "cell_type": "code",
   "execution_count": 10,
   "metadata": {},
   "outputs": [
    {
     "data": {
      "text/plain": [
       "4.569500561509462e-05"
      ]
     },
     "execution_count": 10,
     "metadata": {},
     "output_type": "execute_result"
    }
   ],
   "source": [
    "w0 = np.zeros((X_train_tr.shape[0], 1))\n",
    "\n",
    "n_iterations = 100000\n",
    "eta = 0.05\n",
    "w, losses = eval_model(w0, X_train_tr, y_train_tr, n_iterations, eta)\n",
    "\n",
    "losses[-1]"
   ]
  },
  {
   "cell_type": "code",
   "execution_count": 11,
   "metadata": {},
   "outputs": [
    {
     "data": {
      "text/plain": [
       "0.0004578972097203999"
      ]
     },
     "execution_count": 11,
     "metadata": {},
     "output_type": "execute_result"
    }
   ],
   "source": [
    "w0 = np.zeros((X_train_tr.shape[0], 1))\n",
    "\n",
    "n_iterations = 100000\n",
    "eta = 0.005\n",
    "w, losses = eval_model(w0, X_train_tr, y_train_tr, n_iterations, eta)\n",
    "\n",
    "losses[-1]"
   ]
  },
  {
   "cell_type": "code",
   "execution_count": 12,
   "metadata": {},
   "outputs": [
    {
     "data": {
      "text/plain": [
       "0.004652221246682257"
      ]
     },
     "execution_count": 12,
     "metadata": {},
     "output_type": "execute_result"
    }
   ],
   "source": [
    "w0 = np.zeros((X_train_tr.shape[0], 1))\n",
    "\n",
    "n_iterations = 100000\n",
    "eta = 0.0005\n",
    "w, losses = eval_model(w0, X_train_tr, y_train_tr, n_iterations, eta)\n",
    "\n",
    "losses[-1]"
   ]
  },
  {
   "cell_type": "code",
   "execution_count": 13,
   "metadata": {},
   "outputs": [
    {
     "data": {
      "text/plain": [
       "2.2839724200151225e-06"
      ]
     },
     "execution_count": 13,
     "metadata": {},
     "output_type": "execute_result"
    }
   ],
   "source": [
    "w0 = np.zeros((X_train_tr.shape[0], 1))\n",
    "\n",
    "n_iterations = 100000\n",
    "eta = 1\n",
    "w, losses = eval_model(w0, X_train_tr, y_train_tr, n_iterations, eta)\n",
    "\n",
    "losses[-1]"
   ]
  },
  {
   "cell_type": "code",
   "execution_count": 14,
   "metadata": {},
   "outputs": [
    {
     "name": "stderr",
     "output_type": "stream",
     "text": [
      "<ipython-input-4-f9fe099f45a8>:6: RuntimeWarning: divide by zero encountered in log\n",
      "  loss = -1.0 / m * np.sum(y * np.log(A) + (1 - y) * np.log(1 - A))\n",
      "<ipython-input-4-f9fe099f45a8>:6: RuntimeWarning: invalid value encountered in multiply\n",
      "  loss = -1.0 / m * np.sum(y * np.log(A) + (1 - y) * np.log(1 - A))\n"
     ]
    },
    {
     "data": {
      "text/plain": [
       "nan"
      ]
     },
     "execution_count": 14,
     "metadata": {},
     "output_type": "execute_result"
    }
   ],
   "source": [
    "w0 = np.zeros((X_train_tr.shape[0], 1))\n",
    "\n",
    "n_iterations = 100000\n",
    "eta = 3\n",
    "w, losses = eval_model(w0, X_train_tr, y_train_tr, n_iterations, eta)\n",
    "\n",
    "losses[-1]"
   ]
  },
  {
   "cell_type": "code",
   "execution_count": 15,
   "metadata": {},
   "outputs": [
    {
     "data": {
      "text/plain": [
       "1.5112214344736207e-06"
      ]
     },
     "execution_count": 15,
     "metadata": {},
     "output_type": "execute_result"
    }
   ],
   "source": [
    "w0 = np.zeros((X_train_tr.shape[0], 1))\n",
    "\n",
    "n_iterations = 100000\n",
    "eta = 1.5\n",
    "w, losses = eval_model(w0, X_train_tr, y_train_tr, n_iterations, eta)\n",
    "\n",
    "losses[-1]"
   ]
  },
  {
   "cell_type": "markdown",
   "metadata": {},
   "source": [
    "### 3) Создайте функцию calc_pred_proba, возвращающую предсказанную вероятность класса 1 (на вход подаются W, который уже посчитан функцией eval_model и X, на выходе - массив y_pred_proba)."
   ]
  },
  {
   "cell_type": "code",
   "execution_count": 16,
   "metadata": {},
   "outputs": [],
   "source": [
    "def calc_pred_proba(w, X):\n",
    "    \"\"\"Calculate predict probability.\"\"\"\n",
    "    \n",
    "    return 1 / (1 + np.exp(-np.dot(X, w)))"
   ]
  },
  {
   "cell_type": "code",
   "execution_count": 17,
   "metadata": {},
   "outputs": [],
   "source": [
    "y_pred_proba = calc_pred_proba(w, X_shuffled)"
   ]
  },
  {
   "cell_type": "code",
   "execution_count": 18,
   "metadata": {},
   "outputs": [
    {
     "data": {
      "text/plain": [
       "array([[1.27887504e-07],\n",
       "       [5.19188093e-11],\n",
       "       [5.72212909e-07],\n",
       "       [1.63424167e-06],\n",
       "       [3.49267062e-06],\n",
       "       [9.99998254e-01],\n",
       "       [9.99997627e-01],\n",
       "       [9.99999982e-01],\n",
       "       [1.25660298e-06],\n",
       "       [9.99997582e-01],\n",
       "       [9.99999655e-01],\n",
       "       [9.99999121e-01],\n",
       "       [9.99997583e-01],\n",
       "       [4.32331402e-06],\n",
       "       [9.99997677e-01],\n",
       "       [9.99999378e-01],\n",
       "       [9.99996303e-01],\n",
       "       [9.99999359e-01],\n",
       "       [9.99998418e-01],\n",
       "       [3.21200358e-06],\n",
       "       [3.47562539e-06],\n",
       "       [4.25025919e-08],\n",
       "       [9.99999021e-01],\n",
       "       [2.07401629e-06],\n",
       "       [9.99999807e-01],\n",
       "       [9.99998238e-01],\n",
       "       [4.65193627e-08],\n",
       "       [9.99995797e-01],\n",
       "       [9.99999938e-01],\n",
       "       [8.02650475e-10],\n",
       "       [9.99998074e-01],\n",
       "       [9.99994750e-01],\n",
       "       [2.03793330e-07],\n",
       "       [9.99997035e-01],\n",
       "       [1.00000000e+00],\n",
       "       [1.14736925e-06],\n",
       "       [2.06261917e-06],\n",
       "       [1.53553171e-06],\n",
       "       [3.33035577e-06],\n",
       "       [9.75436948e-07],\n",
       "       [9.99999810e-01],\n",
       "       [9.99996023e-01],\n",
       "       [4.11331799e-06],\n",
       "       [1.57845790e-06],\n",
       "       [9.99999920e-01],\n",
       "       [9.99999985e-01],\n",
       "       [2.70853012e-07],\n",
       "       [9.99997279e-01],\n",
       "       [2.78277958e-06],\n",
       "       [9.99998402e-01],\n",
       "       [1.54987077e-06],\n",
       "       [9.99998915e-01],\n",
       "       [9.99998755e-01],\n",
       "       [3.86878933e-14],\n",
       "       [9.99999899e-01],\n",
       "       [3.13237566e-06],\n",
       "       [3.15674817e-10],\n",
       "       [2.31619970e-06],\n",
       "       [9.99999269e-01],\n",
       "       [9.99998299e-01],\n",
       "       [4.73108216e-07],\n",
       "       [9.99999715e-01],\n",
       "       [1.81839674e-08],\n",
       "       [9.99999999e-01],\n",
       "       [5.32009743e-07],\n",
       "       [1.00000000e+00],\n",
       "       [2.67863202e-06],\n",
       "       [1.83582207e-06],\n",
       "       [4.45948067e-06],\n",
       "       [3.95879001e-07],\n",
       "       [6.03006887e-01],\n",
       "       [9.73819167e-01],\n",
       "       [9.90379284e-01],\n",
       "       [9.98577185e-01],\n",
       "       [9.95271254e-01],\n",
       "       [3.76405079e-03],\n",
       "       [9.99974162e-01],\n",
       "       [9.98916565e-01],\n",
       "       [9.99999954e-01],\n",
       "       [2.12547251e-04],\n",
       "       [9.99997580e-01],\n",
       "       [9.81299116e-01],\n",
       "       [1.81099219e-02],\n",
       "       [4.56229177e-01],\n",
       "       [4.75217988e-01],\n",
       "       [2.48781035e-09],\n",
       "       [9.99958874e-01],\n",
       "       [4.30151889e-12],\n",
       "       [1.94138203e-07],\n",
       "       [9.52756405e-01],\n",
       "       [1.91531350e-07],\n",
       "       [1.68054696e-06],\n",
       "       [9.99869273e-01],\n",
       "       [3.64396304e-04],\n",
       "       [9.99716206e-01],\n",
       "       [8.73589478e-08],\n",
       "       [8.99701626e-01],\n",
       "       [8.80503853e-01],\n",
       "       [9.81308965e-01],\n",
       "       [9.99256365e-01]])"
      ]
     },
     "execution_count": 18,
     "metadata": {},
     "output_type": "execute_result"
    }
   ],
   "source": [
    "y_pred_proba"
   ]
  },
  {
   "cell_type": "markdown",
   "metadata": {},
   "source": [
    "### 4) Создайте функцию calc_pred, возвращающую предсказанный класс (на вход подаются W, который уже посчитан функцией eval_model и X, на выходе - массив y_pred)."
   ]
  },
  {
   "cell_type": "code",
   "execution_count": 19,
   "metadata": {},
   "outputs": [],
   "source": [
    "def calc_pred(w, X, treshold=0.5):\n",
    "    \"\"\"Predict calculation.\"\"\"\n",
    "    \n",
    "    m = X.shape[1]\n",
    "    \n",
    "    y_predicted = np.zeros((1, m))\n",
    "    w = w.reshape(X.shape[0], 1)\n",
    "    \n",
    "    A = logit(np.dot(w.T, X))\n",
    "    \n",
    "    for i in range(A.shape[1]):\n",
    "        if A[:, i] > treshold:\n",
    "            y_predicted[:, i] = 1\n",
    "        elif A[:, i] <= treshold:\n",
    "            y_predicted[:, i] = 0\n",
    "            \n",
    "    return y_predicted"
   ]
  },
  {
   "cell_type": "markdown",
   "metadata": {},
   "source": [
    "### 5) Посчитайте Accuracy, матрицу ошибок, точность и полноту, а также F1 score."
   ]
  },
  {
   "cell_type": "code",
   "execution_count": 20,
   "metadata": {},
   "outputs": [
    {
     "name": "stdout",
     "output_type": "stream",
     "text": [
      "Точность на обучающей выборке: 100.000\n",
      "Точность на тестовой выборке: 66.667\n"
     ]
    }
   ],
   "source": [
    "y_predicted_test = calc_pred(w, X_test_tr)\n",
    "y_predicted_train = calc_pred(w, X_train_tr)\n",
    "\n",
    "# В качестве меры точности возьмем долю правильных ответов\n",
    "train_accuracy = 100.0 - np.mean(np.abs(y_predicted_train - y_train_tr)*100.0)\n",
    "test_accuracy = 100.0 - np.mean(np.abs(y_predicted_test-y_test_tr)*100.0)\n",
    "\n",
    "print(f\"Точность на обучающей выборке: {train_accuracy:.3f}\")\n",
    "print(f\"Точность на тестовой выборке: {test_accuracy:.3f}\")"
   ]
  },
  {
   "cell_type": "code",
   "execution_count": 21,
   "metadata": {},
   "outputs": [],
   "source": [
    "def err_matrix(y_pred, y):\n",
    "    \"\"\"Error matrix evaluation.\"\"\"\n",
    "    \n",
    "    matrix = [0, 0, 0, 0]\n",
    "    \n",
    "    if y_pred == y:\n",
    "        if y == 1:\n",
    "            true_pos_rate += 1\n",
    "        else:\n",
    "            true_neg_rate += 1"
   ]
  },
  {
   "cell_type": "code",
   "execution_count": 31,
   "metadata": {},
   "outputs": [],
   "source": [
    "def eval_err_matrix(y_pred, y):\n",
    "    \"\"\"Error matrix evaluation.\"\"\"\n",
    "    \n",
    "    matrix = np.array([0, 0, 0, 0])\n",
    "    \n",
    "    for i in range(len(y_pred[0])):\n",
    "        if y_pred[0][i] == y[0][i]:\n",
    "            if y[0][i] == 1:\n",
    "                matrix[0] += 1\n",
    "            else:\n",
    "                matrix[3] += 1\n",
    "        else:\n",
    "            if y[0][i] == 1:\n",
    "                matrix[1] += 1\n",
    "            else:\n",
    "                matrix[2] += 1\n",
    "                \n",
    "    return matrix.reshape(2, 2)"
   ]
  },
  {
   "cell_type": "code",
   "execution_count": 40,
   "metadata": {},
   "outputs": [
    {
     "name": "stdout",
     "output_type": "stream",
     "text": [
      "Матрица ошибок на тренировочной выборке\n"
     ]
    },
    {
     "data": {
      "text/html": [
       "<div>\n",
       "<style scoped>\n",
       "    .dataframe tbody tr th:only-of-type {\n",
       "        vertical-align: middle;\n",
       "    }\n",
       "\n",
       "    .dataframe tbody tr th {\n",
       "        vertical-align: top;\n",
       "    }\n",
       "\n",
       "    .dataframe thead th {\n",
       "        text-align: right;\n",
       "    }\n",
       "</style>\n",
       "<table border=\"1\" class=\"dataframe\">\n",
       "  <thead>\n",
       "    <tr style=\"text-align: right;\">\n",
       "      <th></th>\n",
       "      <th>0</th>\n",
       "      <th>1</th>\n",
       "    </tr>\n",
       "  </thead>\n",
       "  <tbody>\n",
       "    <tr>\n",
       "      <th>0</th>\n",
       "      <td>35</td>\n",
       "      <td>0</td>\n",
       "    </tr>\n",
       "    <tr>\n",
       "      <th>1</th>\n",
       "      <td>0</td>\n",
       "      <td>35</td>\n",
       "    </tr>\n",
       "  </tbody>\n",
       "</table>\n",
       "</div>"
      ],
      "text/plain": [
       "    0   1\n",
       "0  35   0\n",
       "1   0  35"
      ]
     },
     "execution_count": 40,
     "metadata": {},
     "output_type": "execute_result"
    }
   ],
   "source": [
    "print('Матрица ошибок на тренировочной выборке')\n",
    "train_err_matrix = pd.DataFrame(eval_err_matrix(y_predicted_train, y_train_tr))\n",
    "train_err_matrix"
   ]
  },
  {
   "cell_type": "code",
   "execution_count": 41,
   "metadata": {},
   "outputs": [
    {
     "name": "stdout",
     "output_type": "stream",
     "text": [
      "Матрица ошибок на тестовой выборке\n"
     ]
    },
    {
     "data": {
      "text/html": [
       "<div>\n",
       "<style scoped>\n",
       "    .dataframe tbody tr th:only-of-type {\n",
       "        vertical-align: middle;\n",
       "    }\n",
       "\n",
       "    .dataframe tbody tr th {\n",
       "        vertical-align: top;\n",
       "    }\n",
       "\n",
       "    .dataframe thead th {\n",
       "        text-align: right;\n",
       "    }\n",
       "</style>\n",
       "<table border=\"1\" class=\"dataframe\">\n",
       "  <thead>\n",
       "    <tr style=\"text-align: right;\">\n",
       "      <th></th>\n",
       "      <th>0</th>\n",
       "      <th>1</th>\n",
       "    </tr>\n",
       "  </thead>\n",
       "  <tbody>\n",
       "    <tr>\n",
       "      <th>0</th>\n",
       "      <td>11</td>\n",
       "      <td>3</td>\n",
       "    </tr>\n",
       "    <tr>\n",
       "      <th>1</th>\n",
       "      <td>7</td>\n",
       "      <td>9</td>\n",
       "    </tr>\n",
       "  </tbody>\n",
       "</table>\n",
       "</div>"
      ],
      "text/plain": [
       "    0  1\n",
       "0  11  3\n",
       "1   7  9"
      ]
     },
     "execution_count": 41,
     "metadata": {},
     "output_type": "execute_result"
    }
   ],
   "source": [
    "print('Матрица ошибок на тестовой выборке')\n",
    "test_err_matrix = pd.DataFrame(eval_err_matrix(y_predicted_test, y_test_tr))\n",
    "test_err_matrix"
   ]
  },
  {
   "cell_type": "code",
   "execution_count": 54,
   "metadata": {},
   "outputs": [],
   "source": [
    "def eval_precision(true_pos, false_pos):\n",
    "    \"\"\"Precision evaluation.\"\"\"\n",
    "    \n",
    "    return true_pos / (true_pos + false_pos)"
   ]
  },
  {
   "cell_type": "code",
   "execution_count": 55,
   "metadata": {},
   "outputs": [
    {
     "name": "stdout",
     "output_type": "stream",
     "text": [
      "Точность на тренировочной выборке: 1.000\n",
      "Точность на тестовой выборке: 0.611\n"
     ]
    }
   ],
   "source": [
    "train_precision = eval_precision(train_err_matrix[0][0], train_err_matrix[0][1])\n",
    "test_precision = eval_precision(test_err_matrix[0][0], test_err_matrix[0][1])\n",
    "print(f'Точность на тренировочной выборке: {train_precision:.3f}')\n",
    "print(f'Точность на тестовой выборке: {test_precision:.3f}')"
   ]
  },
  {
   "cell_type": "code",
   "execution_count": 56,
   "metadata": {},
   "outputs": [],
   "source": [
    "def eval_recall(true_pos, false_neg):\n",
    "    \"\"\"Recall evaluation.\"\"\"\n",
    "    \n",
    "    return true_pos / (true_pos + false_neg)"
   ]
  },
  {
   "cell_type": "code",
   "execution_count": 57,
   "metadata": {},
   "outputs": [
    {
     "name": "stdout",
     "output_type": "stream",
     "text": [
      "Полнота на тренировочной выборке: 1.000\n",
      "Полнота на тестовой выборке: 0.786\n"
     ]
    }
   ],
   "source": [
    "train_recall = eval_recall(train_err_matrix[0][0], train_err_matrix[1][0])\n",
    "test_recall = eval_recall(test_err_matrix[0][0], test_err_matrix[1][0])\n",
    "print(f'Полнота на тренировочной выборке: {train_recall:.3f}')\n",
    "print(f'Полнота на тестовой выборке: {test_recall:.3f}')"
   ]
  },
  {
   "cell_type": "code",
   "execution_count": 58,
   "metadata": {},
   "outputs": [],
   "source": [
    "def f1_score(precision, recall, beta=1):\n",
    "    \"\"\"F1 score evaluation.\"\"\"\n",
    "    \n",
    "    return (1 + beta) * precision * recall / (beta ** 2 * precision + recall)"
   ]
  },
  {
   "cell_type": "code",
   "execution_count": 61,
   "metadata": {},
   "outputs": [
    {
     "name": "stdout",
     "output_type": "stream",
     "text": [
      "F1-score на тренировочной выборке: 1.000\n",
      "F1-score на тренировочной выборке: 0.688\n"
     ]
    }
   ],
   "source": [
    "print(f'F1-score на тренировочной выборке: {f1_score(train_precision, train_recall):.3f}')\n",
    "print(f'F1-score на тренировочной выборке: {f1_score(test_precision, test_recall):.3f}')"
   ]
  },
  {
   "cell_type": "code",
   "execution_count": null,
   "metadata": {},
   "outputs": [],
   "source": []
  }
 ],
 "metadata": {
  "kernelspec": {
   "display_name": "Python 3",
   "language": "python",
   "name": "python3"
  },
  "language_info": {
   "codemirror_mode": {
    "name": "ipython",
    "version": 3
   },
   "file_extension": ".py",
   "mimetype": "text/x-python",
   "name": "python",
   "nbconvert_exporter": "python",
   "pygments_lexer": "ipython3",
   "version": "3.8.5"
  }
 },
 "nbformat": 4,
 "nbformat_minor": 4
}

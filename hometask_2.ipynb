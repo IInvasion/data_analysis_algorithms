{
 "cells": [
  {
   "cell_type": "code",
   "execution_count": 1,
   "metadata": {},
   "outputs": [],
   "source": [
    "import numpy as np\n",
    "import matplotlib.pyplot as plt\n",
    "from sklearn import datasets\n",
    "\n",
    "%matplotlib inline"
   ]
  },
  {
   "cell_type": "code",
   "execution_count": 132,
   "metadata": {},
   "outputs": [],
   "source": [
    "class AlgorithmsDS:\n",
    "    \"\"\"ML algorithms.\"\"\"\n",
    "    \n",
    "    errors = None\n",
    "    w_list = None\n",
    "    weights = None\n",
    "\n",
    "    def __init__(self):\n",
    "        \"\"\"Constructor.\"\"\"\n",
    "\n",
    "    def gradient_descent(self, data, target, eta=1e-02, max_iter=1e04, min_weight_dist=1e-08):\n",
    "        \"\"\"Gradient descent algorithm.\"\"\"\n",
    "        \n",
    "        self.errors = list()\n",
    "        iter_num = 0\n",
    "        target = target.reshape(target.shape[0], 1)\n",
    "        weight_dist = np.inf\n",
    "        self.weights = np.zeros(data.shape[1]).reshape(data.shape[1], 1)\n",
    "        self.w_list = [self.weights.copy()]\n",
    "\n",
    "        while weight_dist > min_weight_dist and iter_num < max_iter:\n",
    "            target_pred = data.dot(self.weights)\n",
    "            err = self.calc_mse(target, target_pred)\n",
    "            \n",
    "            new_weights = self.weights - 2 * eta * (data.T.dot(target_pred - target)) / target.shape[0]\n",
    "            weight_dist = np.linalg.norm(new_weights - self.weights, ord=2)\n",
    "            \n",
    "            self.errors.append(err)\n",
    "            self.w_list.append(new_weights.copy())\n",
    "\n",
    "            iter_num += 1\n",
    "            self.weights = new_weights\n",
    "            \n",
    "            if iter_num % 100 == 0:\n",
    "                print(iter_num, self.weights, err)\n",
    "\n",
    "        self.w_list = np.array(self.w_list)\n",
    "        print(iter_num, self.weights, err)\n",
    "        \n",
    "    def gradient_descent_l1_reg(self, data, target, eta=1e-02, max_iter=1e04, min_weight_dist=1e-08, l1=1e-02):\n",
    "        \"\"\"Gradient descent with L1 regularization.\"\"\"\n",
    "\n",
    "        self.errors = list()\n",
    "        iter_num = 0\n",
    "        weight_dist = np.inf\n",
    "        target = target.reshape(target.shape[0], 1)\n",
    "        self.weights = np.zeros(data.shape[1]).reshape(data.shape[1], 1)\n",
    "        self.w_list = [self.weights.copy()]\n",
    "        \n",
    "        while weight_dist > min_weight_dist and iter_num < max_iter:\n",
    "            target_pred =  data.dot(self.weights)\n",
    "            \n",
    "            err = self.calc_mse_l1_reg(target, target_pred, l1)\n",
    "            \n",
    "            new_weights = self.weights - eta * (2 * data.T.dot(target_pred - target) / target.shape[0] + \\\n",
    "                                                l1 * np.sign(self.weights))\n",
    "                \n",
    "            weight_dist = np.linalg.norm(new_weights - self.weights, ord=2)\n",
    "                \n",
    "            self.errors.append(err)\n",
    "            self.w_list.append(new_weights.copy())\n",
    "            \n",
    "            iter_num += 1\n",
    "            self.weights = new_weights\n",
    "            \n",
    "            if iter_num % 100 == 0:\n",
    "                print(iter_num, self.weights, err)\n",
    "        \n",
    "        self.w_list = np.array(self.w_list)\n",
    "        print(iter_num, self.weights, err)\n",
    "        \n",
    "    def gradient_descent_l2_reg(self, data, target, eta=1e-02, max_iter=1e04, min_weight_dist=1e-08, l2=1e-02):\n",
    "        \"\"\"Gradient descent with L2 regularization.\"\"\"\n",
    "\n",
    "        self.errors = list()\n",
    "        iter_num = 0\n",
    "        weight_dist = np.inf\n",
    "        target = target.reshape(target.shape[0], 1)\n",
    "        self.weights = np.zeros(data.shape[1]).reshape(data.shape[1], 1)\n",
    "        self.w_list = [self.weights.copy()]\n",
    "        \n",
    "        while weight_dist > min_weight_dist and iter_num < max_iter:\n",
    "            target_pred =  data.dot(self.weights)\n",
    "            \n",
    "            err = self.calc_mse_l2_reg(target, target_pred, l2)\n",
    "            \n",
    "            new_weights = self.weights - 2 * eta * (data.T.dot(target_pred - target) / target.shape[0] + \\\n",
    "                                                    l2 * self.weights)\n",
    "                \n",
    "            weight_dist = np.linalg.norm(new_weights - self.weights, ord=2)\n",
    "                \n",
    "            self.errors.append(err)\n",
    "            self.w_list.append(new_weights.copy())\n",
    "            \n",
    "            iter_num += 1\n",
    "            self.weights = new_weights\n",
    "            \n",
    "            if iter_num % 100 == 0:\n",
    "                print(iter_num, self.weights, err)\n",
    "        \n",
    "        self.w_list = np.array(self.w_list)\n",
    "        print(iter_num, self.weights, err)\n",
    "\n",
    "    @staticmethod\n",
    "    def calc_mse(target, target_pred):\n",
    "        \"\"\"Mean squared error calculation.\"\"\"\n",
    "\n",
    "        err = np.mean((target - target_pred) ** 2)\n",
    "\n",
    "        return err\n",
    "    \n",
    "    def calc_mse_l2_reg(self, target, target_pred, l2):\n",
    "        \"\"\"Mean squared error calculation with L2-regularization.\"\"\"\n",
    "        \n",
    "        err = np.mean((target - target_pred) ** 2) + l2 * (np.sum(self.weights ** 2) ** (1 / 2))\n",
    "        \n",
    "        return err\n",
    "    \n",
    "    def calc_mse_l1_reg(self,target, target_pred, l1):\n",
    "        \"\"\"Mean squared error calculation with L1-regularization.\"\"\"\n",
    "        \n",
    "        err = np.mean((target - target_pred) ** 2) + l1 * np.sum(np.absolute(self.weights))\n",
    "        \n",
    "        return err\n",
    "    \n",
    "    def stochastic_gradient_descent(self, data, target, eta=1e-04, max_iter=1e05, min_weight_dist=1e-08):\n",
    "        \"\"\"Stochastic gradient descent algorithm.\"\"\"\n",
    "        \n",
    "        self.standartization(data)\n",
    "        \n",
    "        np.random.seed(1234)\n",
    "\n",
    "        self.errors = list()\n",
    "        iter_num = 0\n",
    "        weight_dist = np.inf\n",
    "        target = target.reshape(target.shape[0], 1)\n",
    "        self.weights = np.zeros(data.shape[1]).reshape(data.shape[1], 1)\n",
    "        self.w_list = [self.weights.copy()]\n",
    "        \n",
    "        while weight_dist > min_weight_dist and iter_num < max_iter:\n",
    "            train_ind = np.random.randint(data.shape[0])\n",
    "            \n",
    "            target_pred = np.dot(data[train_ind], self.weights)\n",
    "\n",
    "            new_weights = self.weights - 2 * eta * np.dot(data[train_ind].T.reshape(data.shape[1], 1),\n",
    "                          (target_pred - target[train_ind]).reshape(1, 1)) / data.shape[1]\n",
    "            \n",
    "            err = self.calc_mse(target, data.dot(new_weights))\n",
    "            weight_dist = np.linalg.norm(new_weights - self.weights, ord=2)\n",
    "            \n",
    "            self.errors.append(err)\n",
    "            self.w_list.append(new_weights.copy())\n",
    "\n",
    "            iter_num += 1\n",
    "            self.weights = new_weights\n",
    "\n",
    "        self.w_list = np.array(self.w_list)\n",
    "        print(iter_num, self.weights, err)\n",
    "    \n",
    "    @staticmethod\n",
    "    def standartization(data):\n",
    "        \"\"\"Z-score data Normalization algorithm.\"\"\"\n",
    "        \n",
    "        means = np.mean(data, axis=0)\n",
    "        stds = np.std(data, axis=0)\n",
    "\n",
    "        for i in range(data.shape[0]):\n",
    "            for j in range(data.shape[1]):\n",
    "                data[i][j] = (data[i][j] - means[j]) / stds[j]\n"
   ]
  },
  {
   "cell_type": "markdown",
   "metadata": {},
   "source": [
    "* 1) Сгенерировать датасет при помощи sklearn.datasets.make_regression и обучить линейную модель при помощи градиентного и стохастического градиентного спуска. Нанести среднеквадратичную ошибку для обоих методов на один график, сделать выводы о разнице скорости сходимости каждого из методов."
   ]
  },
  {
   "cell_type": "code",
   "execution_count": 110,
   "metadata": {},
   "outputs": [],
   "source": [
    "data, target = datasets.make_regression(n_samples=10000,\n",
    "                                        n_features = 2,\n",
    "                                        n_informative = 2,\n",
    "                                        n_targets = 1,\n",
    "                                        noise = 5,\n",
    "                                        coef = False,\n",
    "                                        random_state = 2)"
   ]
  },
  {
   "cell_type": "code",
   "execution_count": 121,
   "metadata": {},
   "outputs": [
    {
     "name": "stdout",
     "output_type": "stream",
     "text": [
      "100 [[41.05896484]\n",
      " [ 1.59046414]] 68.13011054460873\n",
      "200 [[46.60833004]\n",
      " [ 1.64664255]] 26.444516933229306\n",
      "300 [[47.3589177 ]\n",
      " [ 1.63427714]] 25.68204059673793\n",
      "400 [[47.46050944]\n",
      " [ 1.63009506]] 25.668056660915358\n",
      "500 [[47.47426862]\n",
      " [ 1.62921369]] 25.667799602981013\n",
      "600 [[47.47613322]\n",
      " [ 1.62905472]] 25.667794868349034\n",
      "700 [[47.47638604]\n",
      " [ 1.62902821]] 25.667794780997948\n",
      "800 [[47.47642033]\n",
      " [ 1.629024  ]] 25.667794779384085\n",
      "900 [[47.47642499]\n",
      " [ 1.62902335]] 25.667794779354235\n",
      "921 [[47.47642524]\n",
      " [ 1.62902331]] 25.667794779353912\n"
     ]
    }
   ],
   "source": [
    "gdc_obj = AlgorithmsDS()\n",
    "gdc_obj.gradient_descent_l1_reg(data, target)"
   ]
  },
  {
   "cell_type": "code",
   "execution_count": 122,
   "metadata": {},
   "outputs": [
    {
     "data": {
      "image/png": "[encoded data removed]",
      "text/plain": [
       "<Figure size 936x432 with 1 Axes>"
      ]
     },
     "metadata": {
      "needs_background": "light"
     },
     "output_type": "display_data"
    }
   ],
   "source": [
    "plt.figure(figsize=(13, 6))\n",
    "plt.title('Gradient descent')\n",
    "plt.xlabel(r'$w_1$')\n",
    "plt.ylabel(r'$w_2$')\n",
    "plt.scatter(gdc_obj.w_list[:, 0], gdc_obj.w_list[:, 1])\n",
    "plt.plot(gdc_obj.w_list[:, 0], gdc_obj.w_list[:, 1])\n",
    "plt.show()"
   ]
  },
  {
   "cell_type": "code",
   "execution_count": 133,
   "metadata": {},
   "outputs": [
    {
     "ename": "NameError",
     "evalue": "name 'l1' is not defined",
     "output_type": "error",
     "traceback": [
      "\u001b[1;31m---------------------------------------------------------------------------\u001b[0m",
      "\u001b[1;31mNameError\u001b[0m                                 Traceback (most recent call last)",
      "\u001b[1;32m<ipython-input-133-843ea3fcf9c7>\u001b[0m in \u001b[0;36m<module>\u001b[1;34m\u001b[0m\n\u001b[1;32m----> 1\u001b[1;33m \u001b[0mgdc_obj\u001b[0m\u001b[1;33m.\u001b[0m\u001b[0mgradient_descent_l2_reg\u001b[0m\u001b[1;33m(\u001b[0m\u001b[0mdata\u001b[0m\u001b[1;33m,\u001b[0m \u001b[0mtarget\u001b[0m\u001b[1;33m)\u001b[0m\u001b[1;33m\u001b[0m\u001b[1;33m\u001b[0m\u001b[0m\n\u001b[0m",
      "\u001b[1;32m<ipython-input-120-0e4a920a6248>\u001b[0m in \u001b[0;36mgradient_descent_l2_reg\u001b[1;34m(self, data, target, eta, max_iter, min_weight_dist, l2)\u001b[0m\n\u001b[0;32m     83\u001b[0m             \u001b[0mtarget_pred\u001b[0m \u001b[1;33m=\u001b[0m  \u001b[0mdata\u001b[0m\u001b[1;33m.\u001b[0m\u001b[0mdot\u001b[0m\u001b[1;33m(\u001b[0m\u001b[0mself\u001b[0m\u001b[1;33m.\u001b[0m\u001b[0mweights\u001b[0m\u001b[1;33m)\u001b[0m\u001b[1;33m\u001b[0m\u001b[1;33m\u001b[0m\u001b[0m\n\u001b[0;32m     84\u001b[0m \u001b[1;33m\u001b[0m\u001b[0m\n\u001b[1;32m---> 85\u001b[1;33m             \u001b[0merr\u001b[0m \u001b[1;33m=\u001b[0m \u001b[0mself\u001b[0m\u001b[1;33m.\u001b[0m\u001b[0mcalc_mse_l1_reg\u001b[0m\u001b[1;33m(\u001b[0m\u001b[0mtarget\u001b[0m\u001b[1;33m,\u001b[0m \u001b[0mtarget_pred\u001b[0m\u001b[1;33m,\u001b[0m \u001b[0ml1\u001b[0m\u001b[1;33m)\u001b[0m\u001b[1;33m\u001b[0m\u001b[1;33m\u001b[0m\u001b[0m\n\u001b[0m\u001b[0;32m     86\u001b[0m \u001b[1;33m\u001b[0m\u001b[0m\n\u001b[0;32m     87\u001b[0m             new_weights = self.weights - 2 * eta * (data.T.dot(target_pred - target) / target.shape[0] + \\\n",
      "\u001b[1;31mNameError\u001b[0m: name 'l1' is not defined"
     ]
    }
   ],
   "source": [
    "gdc_obj.gradient_descent_l2_reg(data, target)"
   ]
  },
  {
   "cell_type": "code",
   "execution_count": 123,
   "metadata": {
    "scrolled": true
   },
   "outputs": [
    {
     "name": "stdout",
     "output_type": "stream",
     "text": [
      "100 [[41.06327849]\n",
      " [ 1.59467228]] 67.64804567608608\n",
      "200 [[46.61322601]\n",
      " [ 1.65137705]] 25.953571225952672\n",
      "300 [[47.36389061]\n",
      " [ 1.63907578]] 25.190939919731022\n",
      "400 [[47.46549254]\n",
      " [ 1.63490148]] 25.17695325970542\n",
      "500 [[47.47925307]\n",
      " [ 1.63402106]] 25.1766961535515\n",
      "600 [[47.48111784]\n",
      " [ 1.63386221]] 25.176691418060578\n",
      "700 [[47.48137069]\n",
      " [ 1.63383571]] 25.176691330694105\n",
      "800 [[47.48140499]\n",
      " [ 1.6338315 ]] 25.176691329079958\n",
      "900 [[47.48140964]\n",
      " [ 1.63383085]] 25.176691329050104\n",
      "921 [[47.4814099 ]\n",
      " [ 1.63383081]] 25.176691329049785\n"
     ]
    }
   ],
   "source": [
    "gdc_obj.gradient_descent(data, target)"
   ]
  },
  {
   "cell_type": "code",
   "execution_count": 124,
   "metadata": {},
   "outputs": [
    {
     "data": {
      "image/png": "[encoded data removed]",
      "text/plain": [
       "<Figure size 936x432 with 1 Axes>"
      ]
     },
     "metadata": {
      "needs_background": "light"
     },
     "output_type": "display_data"
    }
   ],
   "source": [
    "plt.figure(figsize=(13, 6))\n",
    "plt.title('Gradient descent')\n",
    "plt.xlabel(r'$w_1$')\n",
    "plt.ylabel(r'$w_2$')\n",
    "plt.scatter(gdc_obj.w_list[:, 0], gdc_obj.w_list[:, 1])\n",
    "plt.plot(gdc_obj.w_list[:, 0], gdc_obj.w_list[:, 1])\n",
    "plt.show()"
   ]
  },
  {
   "cell_type": "code",
   "execution_count": 126,
   "metadata": {},
   "outputs": [
    {
     "name": "stdout",
     "output_type": "stream",
     "text": [
      "67880 [[47.21347889]\n",
      " [ 1.67558635]] 25.176731768359524\n"
     ]
    }
   ],
   "source": [
    "sgdc_obj = AlgorithmsDS()\n",
    "sgdc_obj.stochastic_gradient_descent(data, target)"
   ]
  },
  {
   "cell_type": "code",
   "execution_count": 127,
   "metadata": {},
   "outputs": [
    {
     "data": {
      "image/png": "[encoded data removed]",
      "text/plain": [
       "<Figure size 936x432 with 1 Axes>"
      ]
     },
     "metadata": {
      "needs_background": "light"
     },
     "output_type": "display_data"
    }
   ],
   "source": [
    "plt.figure(figsize=(13, 6))\n",
    "plt.title('Stochastic gradient descent')\n",
    "plt.xlabel(r'$w_1$')\n",
    "plt.ylabel(r'$w_2$')\n",
    "plt.scatter(sgdc_obj.w_list[:, 0], sgdc_obj.w_list[:, 1])\n",
    "plt.show()"
   ]
  },
  {
   "cell_type": "code",
   "execution_count": 128,
   "metadata": {},
   "outputs": [
    {
     "data": {
      "image/png": "[encoded data removed]",
      "text/plain": [
       "<Figure size 432x288 with 1 Axes>"
      ]
     },
     "metadata": {
      "needs_background": "light"
     },
     "output_type": "display_data"
    }
   ],
   "source": [
    "plt.plot(range(len(gdc_obj.errors)), gdc_obj.errors, label='gradient descent')\n",
    "plt.plot(range(len(sgdc_obj.errors)), sgdc_obj.errors, label='stochastic gradient descent w/o reg')\n",
    "plt.title('MSE')\n",
    "plt.xlabel('Iteration number')\n",
    "plt.ylabel('MSE')\n",
    "plt.legend()\n",
    "plt.show()"
   ]
  },
  {
   "cell_type": "code",
   "execution_count": null,
   "metadata": {},
   "outputs": [],
   "source": []
  }
 ],
 "metadata": {
  "kernelspec": {
   "display_name": "Python 3",
   "language": "python",
   "name": "python3"
  },
  "language_info": {
   "codemirror_mode": {
    "name": "ipython",
    "version": 3
   },
   "file_extension": ".py",
   "mimetype": "text/x-python",
   "name": "python",
   "nbconvert_exporter": "python",
   "pygments_lexer": "ipython3",
   "version": "3.8.5"
  }
 },
 "nbformat": 4,
 "nbformat_minor": 4
}

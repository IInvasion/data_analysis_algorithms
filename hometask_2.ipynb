{
 "cells": [
  {
   "cell_type": "code",
   "execution_count": 1,
   "metadata": {},
   "outputs": [],
   "source": [
    "import numpy as np\n",
    "import matplotlib.pyplot as plt\n",
    "from sklearn import datasets\n",
    "\n",
    "%matplotlib inline"
   ]
  },
  {
   "cell_type": "code",
   "execution_count": 2,
   "metadata": {},
   "outputs": [],
   "source": [
    "class AlgorithmsDS:\n",
    "    \"\"\"Class with algorithms from GB data analysis algorithms.\"\"\"\n",
    "\n",
    "    def __init__(self, n_features, data, target):\n",
    "        \"\"\"Constructor.\"\"\"\n",
    "\n",
    "        self.weights = np.zeros(n_features).reshape(n_features, 1)\n",
    "        self.data = data\n",
    "        self.target = target.reshape(target.shape[0], 1)\n",
    "        self.errors = []\n",
    "        self.w_list = [self.weights.copy()]\n",
    "\n",
    "    def gradient_descent(self, eta=1e-02, max_iter=1e04, min_weight_dist=1e-08):\n",
    "        \"\"\"Gradient descent algorithm.\"\"\"\n",
    "\n",
    "        iter_num = 0\n",
    "        weight_dist = np.inf\n",
    "\n",
    "        while weight_dist > min_weight_dist and iter_num < max_iter:\n",
    "            target_pred = np.dot(self.data, self.weights)\n",
    "            \n",
    "            err = self.calc_mse(self.target, target_pred)\n",
    "            \n",
    "            new_weights = self.weights - 2 * eta * (self.data.T @ (target_pred - self.target)) / self.target.shape[0]\n",
    "            \n",
    "            weight_dist = np.linalg.norm(new_weights - self.weights, ord=2)\n",
    "            \n",
    "            self.errors.append(err)\n",
    "            self.w_list.append(new_weights.copy())\n",
    "\n",
    "            iter_num += 1\n",
    "            self.weights = new_weights\n",
    "\n",
    "        self.w_list = np.array(self.w_list)\n",
    "\n",
    "    def calc_mse(self, target, target_pred):\n",
    "        \"\"\"Mean squared error calculation.\"\"\"\n",
    "\n",
    "        err = np.mean((target - target_pred) ** 2)\n",
    "\n",
    "        return err\n",
    "    \n",
    "    def stochastic_gradient_descent(self, eta=1e-04, max_iter=1e05, min_weight_dist=1e-08):\n",
    "        \"\"\"Stochastic gradient descent algorithm.\"\"\"\n",
    "        \n",
    "        self.standartization()\n",
    "        \n",
    "        iter_num = 0\n",
    "        weight_dist = np.inf\n",
    "        np.random.seed(1234)\n",
    "        \n",
    "        while weight_dist > min_weight_dist and iter_num < max_iter:\n",
    "            train_ind = np.random.randint(self.data.shape[0])\n",
    "            \n",
    "            target_pred = np.dot(self.data[train_ind], self.weights)\n",
    "\n",
    "            new_weights = self.weights - 2 * eta * np.dot(self.data[train_ind].T.reshape(self.data.shape[1], 1),\n",
    "                          (target_pred - self.target[train_ind]).reshape(1, 1)) / self.data.shape[1]\n",
    "            err = self.calc_mse(self.target, self.data @ new_weights)\n",
    "\n",
    "            weight_dist = np.linalg.norm(new_weights - self.weights, ord=2)\n",
    "            \n",
    "            self.errors.append(err)\n",
    "            self.w_list.append(new_weights.copy())\n",
    "\n",
    "            iter_num += 1\n",
    "            self.weights = new_weights\n",
    "\n",
    "        self.w_list = np.array(self.w_list)\n",
    "        \n",
    "    def standartization(self):\n",
    "        \"\"\"Z-score data Normalization algorithm.\"\"\"\n",
    "        \n",
    "        means = np.mean(self.data, axis=0)\n",
    "        stds = np.std(self.data, axis=0)\n",
    "\n",
    "        for i in range(self.data.shape[0]):\n",
    "            for j in range(self.data.shape[1]):\n",
    "                self.data[i][j] = (self.data[i][j] - means[j]) / stds[j]\n"
   ]
  },
  {
   "cell_type": "markdown",
   "metadata": {},
   "source": [
    "* 1) Сгенерировать датасет при помощи sklearn.datasets.make_regression и обучить линейную модель при помощи градиентного и стохастического градиентного спуска. Нанести среднеквадратичную ошибку для обоих методов на один график, сделать выводы о разнице скорости сходимости каждого из методов."
   ]
  },
  {
   "cell_type": "code",
   "execution_count": 3,
   "metadata": {},
   "outputs": [],
   "source": [
    "data, target= datasets.make_regression(n_samples=10000, n_features = 2, n_informative = 2, n_targets = 1, \n",
    "                                              noise = 5, coef = False, random_state = 2)"
   ]
  },
  {
   "cell_type": "code",
   "execution_count": 4,
   "metadata": {},
   "outputs": [],
   "source": [
    "gdc_obj = AlgorithmsDS(2, data, target)\n",
    "gdc_obj.gradient_descent()"
   ]
  },
  {
   "cell_type": "code",
   "execution_count": 5,
   "metadata": {},
   "outputs": [],
   "source": [
    "sgdc_obj = AlgorithmsDS(2, data, target)\n",
    "sgdc_obj.stochastic_gradient_descent()"
   ]
  },
  {
   "cell_type": "code",
   "execution_count": 7,
   "metadata": {},
   "outputs": [
    {
     "data": {
      "image/png": "[encoded data removed]",
      "text/plain": [
       "<Figure size 432x288 with 1 Axes>"
      ]
     },
     "metadata": {
      "needs_background": "light"
     },
     "output_type": "display_data"
    }
   ],
   "source": [
    "plt.plot(range(len(gdc_obj.errors)), gdc_obj.errors, label='gradient descent')\n",
    "plt.plot(range(len(sgdc_obj.errors)), sgdc_obj.errors, label='stochastic gradient descent')\n",
    "plt.title('MSE')\n",
    "plt.xlabel('Iteration number')\n",
    "plt.ylabel('MSE')\n",
    "plt.legend()\n",
    "plt.show()"
   ]
  }
 ],
 "metadata": {
  "kernelspec": {
   "display_name": "Python 3",
   "language": "python",
   "name": "python3"
  },
  "language_info": {
   "codemirror_mode": {
    "name": "ipython",
    "version": 3
   },
   "file_extension": ".py",
   "mimetype": "text/x-python",
   "name": "python",
   "nbconvert_exporter": "python",
   "pygments_lexer": "ipython3",
   "version": "3.8.5"
  }
 },
 "nbformat": 4,
 "nbformat_minor": 4
}
